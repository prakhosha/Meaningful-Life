{
  "nbformat": 4,
  "nbformat_minor": 0,
  "metadata": {
    "colab": {
      "provenance": []
    },
    "kernelspec": {
      "name": "python3",
      "display_name": "Python 3"
    },
    "language_info": {
      "name": "python"
    }
  },
  "cells": [
    {
      "cell_type": "markdown",
      "source": [
        "***\n",
        "\n",
        "# A Meaningful Life\n",
        "\n",
        "**Victor Frankl’s will to meaning**\n",
        "\n",
        "*Posted on July 2023*\n",
        "\n",
        "***"
      ],
      "metadata": {
        "id": "x8GTrHNp13rg"
      }
    },
    {
      "cell_type": "markdown",
      "source": [
        "Have you ever wondered about the meaning of life?"
      ],
      "metadata": {
        "id": "yaH8p8cm2AHd"
      }
    },
    {
      "cell_type": "markdown",
      "source": [
        "In the grand scheme of things, we are just one creature of all creatures that live on this one planet of all planets in the universe. We also only live for less than a hundred years compared to the billions of years that life has experienced. And if you are a non-believer, you would believe that life ends when death comes. It seems like life has no meaning."
      ],
      "metadata": {
        "id": "ScbxVbxb2BMb"
      }
    },
    {
      "cell_type": "markdown",
      "source": [
        "This nihilistic view is amplified by the reductionist point of view. Reductionists believe that everything can be explained if we break it down into its smaller part. Humans, thus, can be explained by their parts, by their organs, and by their atoms. This in turn view humans as nothing but group of atoms interacting with each other. What meaning does human hold in this case?"
      ],
      "metadata": {
        "id": "C4g_b8Wr2DRj"
      }
    },
    {
      "cell_type": "markdown",
      "source": [
        "Thus you embark on a journey to find the meaning of life. This search for meaning has also been done by many great thinkers. A search for meaning is by no means an illness or neurosis. So, do not feel inferior to others that you are experiencing an existential vacuum. In fact, rejoice because in order to live your life to the fullest, you need to know your meaning."
      ],
      "metadata": {
        "id": "4mtsVb7a2Fg-"
      }
    },
    {
      "cell_type": "markdown",
      "source": [
        "Let’s see what is going on now."
      ],
      "metadata": {
        "id": "3-sD_ikr2Hvr"
      }
    },
    {
      "cell_type": "markdown",
      "source": [
        "In order to survive in this nihilistic world, one creates their own meaning. Be it in the form of power or pleasure. Some people will chase that brand new smartphone that came out a week ago. Some people try to be rich, achieve that promotion as fast as they can, maybe in the span of two or three years. And some people will try to have a degree as high as they can because higher degree gives more money or higher degree gives more status."
      ],
      "metadata": {
        "id": "mkwma_SO2JxW"
      }
    },
    {
      "cell_type": "markdown",
      "source": [
        "But Victor Frankl however, in his book *The Will to Meaning*, said that meaning in fact is not created rather it is found."
      ],
      "metadata": {
        "id": "AgWsvxqI2MDj"
      }
    },
    {
      "cell_type": "markdown",
      "source": [
        "*“Human beings are transcending themselves toward meanings which are something other than themselves, which are more than mere expressions of their selves, more than mere projections of these selves. Meanings are discovered but not invented”*"
      ],
      "metadata": {
        "id": "O4OnELm62Srp"
      }
    },
    {
      "cell_type": "markdown",
      "source": [
        "The implication of this is that the world is, as opposed to the meaningless world, not meaningless but full of meanings in the first place. What did he mean by this?"
      ],
      "metadata": {
        "id": "hpoYiIY42T8-"
      }
    },
    {
      "cell_type": "markdown",
      "source": [
        "Humans, from the moment they are born, are free. They have the ability to experience anything in this world in the form of pleasure. Thus will to pleasure exist. They also have the freedom to move freely, freedom to do everything. Thus will to power exists."
      ],
      "metadata": {
        "id": "hFdBjOqE2WXi"
      }
    },
    {
      "cell_type": "markdown",
      "source": [
        "In addition to those, one can argue that we are the most advanced creatures when it comes to narrative and story-telling. Our brain evolves and in turn gives us the ability to narrate and story tell. The consequences of this is that humans have the tendency to meaning, a will to meaning."
      ],
      "metadata": {
        "id": "y4Ss5n2I2YX3"
      }
    },
    {
      "cell_type": "markdown",
      "source": [
        "Human behavior can be understood from the perspective of the homeostasis principle. This principle argues that human behavior can be explained by their nature of tension. Tension is what I called the gap between one's ideal condition and the actual condition. Tension reduction is the drive of human action."
      ],
      "metadata": {
        "id": "NfOHtsxi2aYJ"
      }
    },
    {
      "cell_type": "markdown",
      "source": [
        "In addition to reducing tension, humans can also increase their tension. Tension needs to be created by using a direction. What's a direction? It is by using our own conscience and responsibility. This is the essence of existentialism. Frankl argues that people have misinterpreted existentialism as the subjectivity of being when in reality there is no such thing as subjectivity in humans. This is because humans are transcended. From the moment one is born, one should and will be interacting with their world. A human cannot be called human if they never interact with the world, be it another human or any experience. Their cognitive and belief is the result of their interaction with the world."
      ],
      "metadata": {
        "id": "Altp7ORM2ci1"
      }
    },
    {
      "cell_type": "markdown",
      "source": [
        "This interaction creates what we called tension earlier, or what I would call the gap between ideal and reality. While it is true our ideal comes from ourselves, we can also argue that our environment shapes our ideal. Reality itself comes from things other than ourselves. Thus humans are transcended from their own to the outside."
      ],
      "metadata": {
        "id": "0Hp_rvwO2ep2"
      }
    },
    {
      "cell_type": "markdown",
      "source": [
        "And because of this transcendness, meaning is found rather than created. The world is already full of meaning waiting to be discovered. It is not created because for it to be created, it has to exist from ourselves. But humans are transcended, their ideals and reality exist because of their interaction with the outside world. So meaning can not be created from within. Meaning is discovered. Life is already full of meaning."
      ],
      "metadata": {
        "id": "yixxPM-v2gx_"
      }
    }
  ]
}